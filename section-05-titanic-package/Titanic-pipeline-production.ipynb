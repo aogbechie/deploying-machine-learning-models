{
 "cells": [
  {
   "cell_type": "code",
   "execution_count": 32,
   "metadata": {},
   "outputs": [],
   "source": [
    "import regex as re\n",
    "\n",
    "# to handle datasets\n",
    "import pandas as pd\n",
    "import numpy as np\n",
    "\n",
    "# to divide train and test set\n",
    "from sklearn.model_selection import train_test_split\n",
    "\n",
    "# feature scaling\n",
    "from sklearn.preprocessing import StandardScaler\n",
    "\n",
    "# to build the models\n",
    "from sklearn.linear_model import LogisticRegression\n",
    "\n",
    "# to evaluate the models\n",
    "from sklearn.metrics import accuracy_score, roc_auc_score\n",
    "\n",
    "# to persist the model and the scaler\n",
    "import joblib\n",
    "\n",
    "# ========== NEW IMPORTS ========\n",
    "# Respect to notebook 02-Predicting-Survival-Titanic-Solution\n",
    "\n",
    "# pipeline\n",
    "\n",
    "from sklearn.pipeline import Pipeline\n",
    "\n",
    "# for the preprocessors\n",
    "from sklearn.base import BaseEstimator, TransformerMixin\n",
    "\n",
    "\n",
    "# for imputation\n",
    "from feature_engine.imputation import (\n",
    "    AddMissingIndicator,\n",
    "    MeanMedianImputer,\n",
    "    CategoricalImputer,\n",
    ")\n",
    "\n",
    "# for encoding categorical variables\n",
    "from feature_engine.encoding import (\n",
    "    RareLabelEncoder,\n",
    "    OneHotEncoder\n",
    ")"
   ]
  },
  {
   "cell_type": "markdown",
   "metadata": {},
   "source": [
    "## Prepare the data set"
   ]
  },
  {
   "cell_type": "code",
   "execution_count": 33,
   "metadata": {},
   "outputs": [],
   "source": [
    "# load the data - it is available open source and online\n",
    "\n",
    "data = pd.read_csv('clf_model/datasets/train_titanic.csv')"
   ]
  },
  {
   "cell_type": "code",
   "execution_count": 34,
   "metadata": {},
   "outputs": [],
   "source": [
    "# replace interrogation marks by NaN values\n",
    "\n",
    "data = data.replace('?', np.nan)"
   ]
  },
  {
   "cell_type": "code",
   "execution_count": 35,
   "metadata": {},
   "outputs": [],
   "source": [
    "# Lowercase the columns names\n",
    "data.columns = [var.lower() for var in data.columns]"
   ]
  },
  {
   "cell_type": "code",
   "execution_count": 36,
   "metadata": {},
   "outputs": [],
   "source": [
    "# retain only the first cabin if more than\n",
    "# 1 are available per passenger\n",
    "\n",
    "def get_first_cabin(row):\n",
    "    try:\n",
    "        return row.split()[0]\n",
    "    except AttributeError:\n",
    "        return np.nan\n",
    "    \n",
    "data['cabin'] = data['cabin'].apply(get_first_cabin)"
   ]
  },
  {
   "cell_type": "code",
   "execution_count": 37,
   "metadata": {},
   "outputs": [],
   "source": [
    "# extracts the title (Mr, Ms, etc) from the name variable\n",
    "\n",
    "def get_title(passenger):\n",
    "    line = passenger\n",
    "    if re.search('Mrs', line):\n",
    "        return 'Mrs'\n",
    "    elif re.search('Mr', line):\n",
    "        return 'Mr'\n",
    "    elif re.search('Miss', line):\n",
    "        return 'Miss'\n",
    "    elif re.search('Master', line):\n",
    "        return 'Master'\n",
    "    else:\n",
    "        return 'Other'\n",
    "    \n",
    "data['title'] = data['name'].apply(get_title)"
   ]
  },
  {
   "cell_type": "code",
   "execution_count": 38,
   "metadata": {},
   "outputs": [],
   "source": [
    "# cast numerical variables as floats\n",
    "\n",
    "data['fare'] = data['fare'].astype('float')\n",
    "data['age'] = data['age'].astype('float')"
   ]
  },
  {
   "cell_type": "code",
   "execution_count": 39,
   "metadata": {},
   "outputs": [
    {
     "data": {
      "text/html": [
       "<div>\n",
       "<style scoped>\n",
       "    .dataframe tbody tr th:only-of-type {\n",
       "        vertical-align: middle;\n",
       "    }\n",
       "\n",
       "    .dataframe tbody tr th {\n",
       "        vertical-align: top;\n",
       "    }\n",
       "\n",
       "    .dataframe thead th {\n",
       "        text-align: right;\n",
       "    }\n",
       "</style>\n",
       "<table border=\"1\" class=\"dataframe\">\n",
       "  <thead>\n",
       "    <tr style=\"text-align: right;\">\n",
       "      <th></th>\n",
       "      <th>passengerid</th>\n",
       "      <th>survived</th>\n",
       "      <th>pclass</th>\n",
       "      <th>name</th>\n",
       "      <th>sex</th>\n",
       "      <th>age</th>\n",
       "      <th>sibsp</th>\n",
       "      <th>parch</th>\n",
       "      <th>ticket</th>\n",
       "      <th>fare</th>\n",
       "      <th>cabin</th>\n",
       "      <th>embarked</th>\n",
       "      <th>title</th>\n",
       "    </tr>\n",
       "  </thead>\n",
       "  <tbody>\n",
       "    <tr>\n",
       "      <th>0</th>\n",
       "      <td>1</td>\n",
       "      <td>0</td>\n",
       "      <td>3</td>\n",
       "      <td>Braund, Mr. Owen Harris</td>\n",
       "      <td>male</td>\n",
       "      <td>22.0</td>\n",
       "      <td>1</td>\n",
       "      <td>0</td>\n",
       "      <td>A/5 21171</td>\n",
       "      <td>7.2500</td>\n",
       "      <td>NaN</td>\n",
       "      <td>S</td>\n",
       "      <td>Mr</td>\n",
       "    </tr>\n",
       "    <tr>\n",
       "      <th>1</th>\n",
       "      <td>2</td>\n",
       "      <td>1</td>\n",
       "      <td>1</td>\n",
       "      <td>Cumings, Mrs. John Bradley (Florence Briggs Th...</td>\n",
       "      <td>female</td>\n",
       "      <td>38.0</td>\n",
       "      <td>1</td>\n",
       "      <td>0</td>\n",
       "      <td>PC 17599</td>\n",
       "      <td>71.2833</td>\n",
       "      <td>C85</td>\n",
       "      <td>C</td>\n",
       "      <td>Mrs</td>\n",
       "    </tr>\n",
       "    <tr>\n",
       "      <th>2</th>\n",
       "      <td>3</td>\n",
       "      <td>1</td>\n",
       "      <td>3</td>\n",
       "      <td>Heikkinen, Miss. Laina</td>\n",
       "      <td>female</td>\n",
       "      <td>26.0</td>\n",
       "      <td>0</td>\n",
       "      <td>0</td>\n",
       "      <td>STON/O2. 3101282</td>\n",
       "      <td>7.9250</td>\n",
       "      <td>NaN</td>\n",
       "      <td>S</td>\n",
       "      <td>Miss</td>\n",
       "    </tr>\n",
       "    <tr>\n",
       "      <th>3</th>\n",
       "      <td>4</td>\n",
       "      <td>1</td>\n",
       "      <td>1</td>\n",
       "      <td>Futrelle, Mrs. Jacques Heath (Lily May Peel)</td>\n",
       "      <td>female</td>\n",
       "      <td>35.0</td>\n",
       "      <td>1</td>\n",
       "      <td>0</td>\n",
       "      <td>113803</td>\n",
       "      <td>53.1000</td>\n",
       "      <td>C123</td>\n",
       "      <td>S</td>\n",
       "      <td>Mrs</td>\n",
       "    </tr>\n",
       "    <tr>\n",
       "      <th>4</th>\n",
       "      <td>5</td>\n",
       "      <td>0</td>\n",
       "      <td>3</td>\n",
       "      <td>Allen, Mr. William Henry</td>\n",
       "      <td>male</td>\n",
       "      <td>35.0</td>\n",
       "      <td>0</td>\n",
       "      <td>0</td>\n",
       "      <td>373450</td>\n",
       "      <td>8.0500</td>\n",
       "      <td>NaN</td>\n",
       "      <td>S</td>\n",
       "      <td>Mr</td>\n",
       "    </tr>\n",
       "  </tbody>\n",
       "</table>\n",
       "</div>"
      ],
      "text/plain": [
       "   passengerid  survived  pclass  \\\n",
       "0            1         0       3   \n",
       "1            2         1       1   \n",
       "2            3         1       3   \n",
       "3            4         1       1   \n",
       "4            5         0       3   \n",
       "\n",
       "                                                name     sex   age  sibsp  \\\n",
       "0                            Braund, Mr. Owen Harris    male  22.0      1   \n",
       "1  Cumings, Mrs. John Bradley (Florence Briggs Th...  female  38.0      1   \n",
       "2                             Heikkinen, Miss. Laina  female  26.0      0   \n",
       "3       Futrelle, Mrs. Jacques Heath (Lily May Peel)  female  35.0      1   \n",
       "4                           Allen, Mr. William Henry    male  35.0      0   \n",
       "\n",
       "   parch            ticket     fare cabin embarked title  \n",
       "0      0         A/5 21171   7.2500   NaN        S    Mr  \n",
       "1      0          PC 17599  71.2833   C85        C   Mrs  \n",
       "2      0  STON/O2. 3101282   7.9250   NaN        S  Miss  \n",
       "3      0            113803  53.1000  C123        S   Mrs  \n",
       "4      0            373450   8.0500   NaN        S    Mr  "
      ]
     },
     "execution_count": 39,
     "metadata": {},
     "output_type": "execute_result"
    }
   ],
   "source": [
    "data.head()"
   ]
  },
  {
   "cell_type": "code",
   "execution_count": 40,
   "metadata": {},
   "outputs": [
    {
     "name": "stdout",
     "output_type": "stream",
     "text": [
      "<class 'pandas.core.frame.DataFrame'>\n",
      "RangeIndex: 891 entries, 0 to 890\n",
      "Data columns (total 13 columns):\n",
      " #   Column       Non-Null Count  Dtype  \n",
      "---  ------       --------------  -----  \n",
      " 0   passengerid  891 non-null    int64  \n",
      " 1   survived     891 non-null    int64  \n",
      " 2   pclass       891 non-null    int64  \n",
      " 3   name         891 non-null    object \n",
      " 4   sex          891 non-null    object \n",
      " 5   age          714 non-null    float64\n",
      " 6   sibsp        891 non-null    int64  \n",
      " 7   parch        891 non-null    int64  \n",
      " 8   ticket       891 non-null    object \n",
      " 9   fare         891 non-null    float64\n",
      " 10  cabin        204 non-null    object \n",
      " 11  embarked     889 non-null    object \n",
      " 12  title        891 non-null    object \n",
      "dtypes: float64(2), int64(5), object(6)\n",
      "memory usage: 90.6+ KB\n"
     ]
    }
   ],
   "source": [
    "data.info()"
   ]
  },
  {
   "cell_type": "code",
   "execution_count": 41,
   "metadata": {},
   "outputs": [],
   "source": [
    "# drop unnecessary variables\n",
    "\n",
    "features = ['pclass','survived','sex','age','sibsp','parch','fare','cabin','embarked','title']\n",
    "\n",
    "data = data[features]"
   ]
  },
  {
   "cell_type": "code",
   "execution_count": 42,
   "metadata": {},
   "outputs": [
    {
     "data": {
      "text/plain": [
       "['sex', 'cabin', 'embarked', 'title']"
      ]
     },
     "execution_count": 42,
     "metadata": {},
     "output_type": "execute_result"
    }
   ],
   "source": [
    "cat_variables = [var for var in data.columns if data[var].dtype == 'object']\n",
    "cat_variables"
   ]
  },
  {
   "cell_type": "code",
   "execution_count": 43,
   "metadata": {},
   "outputs": [
    {
     "data": {
      "text/plain": [
       "['pclass', 'age', 'sibsp', 'parch', 'fare']"
      ]
     },
     "execution_count": 43,
     "metadata": {},
     "output_type": "execute_result"
    }
   ],
   "source": [
    "num_variables = [var for var in data.columns if var not in cat_variables and var != 'survived']\n",
    "num_variables"
   ]
  },
  {
   "cell_type": "code",
   "execution_count": 44,
   "metadata": {},
   "outputs": [
    {
     "data": {
      "text/plain": [
       "['survived']"
      ]
     },
     "execution_count": 44,
     "metadata": {},
     "output_type": "execute_result"
    }
   ],
   "source": [
    "target = ['survived']\n",
    "target"
   ]
  },
  {
   "cell_type": "code",
   "execution_count": 45,
   "metadata": {},
   "outputs": [],
   "source": [
    "# Recap of lists of variables necessary\n",
    "\n",
    "FEATURES = ['pclass','survived','sex','age','sibsp','parch','fare','cabin','embarked','title']\n",
    "\n",
    "NUMERICAL_VARIABLES = ['pclass', 'age', 'sibsp', 'parch', 'fare']\n",
    "\n",
    "CATEGORICAL_VARIABLES = ['sex', 'cabin', 'embarked', 'title']\n",
    "\n",
    "CABIN = ['cabin']\n",
    "\n",
    "TARGET = ['survived']\n",
    "\n"
   ]
  },
  {
   "cell_type": "markdown",
   "metadata": {},
   "source": [
    "## Separate data into train and test"
   ]
  },
  {
   "cell_type": "code",
   "execution_count": 46,
   "metadata": {},
   "outputs": [
    {
     "data": {
      "text/plain": [
       "((712, 9), (179, 9))"
      ]
     },
     "execution_count": 46,
     "metadata": {},
     "output_type": "execute_result"
    }
   ],
   "source": [
    "X_train, X_test, y_train, y_test = train_test_split(\n",
    "    data.drop('survived', axis=1),  # predictors\n",
    "    data['survived'],  # target\n",
    "    test_size=0.2,  # percentage of obs in test set\n",
    "    random_state=0)  # seed to ensure reproducibility\n",
    "\n",
    "X_train.shape, X_test.shape"
   ]
  },
  {
   "cell_type": "markdown",
   "metadata": {},
   "source": [
    "Test - Features"
   ]
  },
  {
   "cell_type": "code",
   "execution_count": 47,
   "metadata": {},
   "outputs": [
    {
     "data": {
      "text/plain": [
       "'B78'"
      ]
     },
     "execution_count": 47,
     "metadata": {},
     "output_type": "execute_result"
    }
   ],
   "source": [
    "X_test['cabin'].iat[3]"
   ]
  },
  {
   "cell_type": "markdown",
   "metadata": {},
   "source": [
    "## Preprocessors\n",
    "\n",
    "### Class to extract the letter from the variable Cabin"
   ]
  },
  {
   "cell_type": "code",
   "execution_count": 48,
   "metadata": {},
   "outputs": [],
   "source": [
    "class ExtractLetterTransformer(BaseEstimator,TransformerMixin):\n",
    "    # Extract first letter of variable\n",
    "\n",
    "    def __init__(self, variables):\n",
    "        if not isinstance(variables, list):\n",
    "            raise ValueError('variables should be a list')\n",
    "\n",
    "        self.variables = variables\n",
    "\n",
    "\n",
    "    def fit(self, X, y = None):\n",
    "        return self\n",
    "\n",
    "    def transform(self, X):\n",
    "        X = X.copy()\n",
    "        for var in self.variables:\n",
    "            X[var] = X[var].apply(lambda x: x if pd.isna(x) else x[0])\n",
    "        return X\n",
    "\n"
   ]
  },
  {
   "cell_type": "markdown",
   "metadata": {},
   "source": [
    "## Pipeline\n",
    "\n",
    "- Impute categorical variables with string missing\n",
    "- Add a binary missing indicator to numerical variables with missing data\n",
    "- Fill NA in original numerical variable with the median\n",
    "- Extract first letter from cabin\n",
    "- Group rare Categories\n",
    "- Perform One hot encoding\n",
    "- Scale features with standard scaler\n",
    "- Fit a Logistic regression"
   ]
  },
  {
   "cell_type": "code",
   "execution_count": 49,
   "metadata": {},
   "outputs": [],
   "source": [
    "# set up the pipeline\n",
    "titanic_pipe = Pipeline([\n",
    "\n",
    "    # ===== IMPUTATION =====\n",
    "    # impute categorical variables with string 'missing'\n",
    "    ('categorical_imputation', CategoricalImputer(\n",
    "        imputation_method='missing', variables=CATEGORICAL_VARIABLES\n",
    "    )),\n",
    "\n",
    "    # add missing indicator to numerical variables\n",
    "    ('missing_indicator', AddMissingIndicator(\n",
    "        variables= NUMERICAL_VARIABLES\n",
    "    )),\n",
    "\n",
    "    # impute numerical variables with the median\n",
    "    ('median_imputation', MeanMedianImputer(\n",
    "        imputation_method='median',variables=NUMERICAL_VARIABLES\n",
    "    )),\n",
    "\n",
    "    # Extract first letter from cabin\n",
    "    ('extract_letter', ExtractLetterTransformer(variables=CABIN)),\n",
    "\n",
    "    # == CATEGORICAL ENCODING ======\n",
    "    # remove categories present in less than 5% of the observations (0.05)\n",
    "    # group them in one category called 'Rare'\n",
    "    ('rare_label_encoder', RareLabelEncoder(\n",
    "        tol=0.05, n_categories= 1, replace_with= 'Rare',variables=CATEGORICAL_VARIABLES\n",
    "    )),\n",
    "\n",
    "    # encode categorical variables using one hot encoding into k-1 variables\n",
    "    ('categorical_encoder', OneHotEncoder(\n",
    "        drop_last= True, variables= CATEGORICAL_VARIABLES\n",
    "    )),\n",
    "\n",
    "    # scale using standardization\n",
    "    ('scaler', StandardScaler()),\n",
    "\n",
    "    # logistic regression (use C=0.0005 and random_state=0)\n",
    "    ('Logit', LogisticRegression(\n",
    "        C=0.0005, random_state=0)),\n",
    "])"
   ]
  },
  {
   "cell_type": "code",
   "execution_count": 50,
   "metadata": {},
   "outputs": [
    {
     "data": {
      "text/plain": [
       "Pipeline(steps=[('categorical_imputation',\n",
       "                 CategoricalImputer(variables=['sex', 'cabin', 'embarked',\n",
       "                                               'title'])),\n",
       "                ('missing_indicator',\n",
       "                 AddMissingIndicator(variables=['pclass', 'age', 'sibsp',\n",
       "                                                'parch', 'fare'])),\n",
       "                ('median_imputation',\n",
       "                 MeanMedianImputer(variables=['pclass', 'age', 'sibsp', 'parch',\n",
       "                                              'fare'])),\n",
       "                ('extract_letter',\n",
       "                 ExtractLetterTransformer(variables=['cabin'])),\n",
       "                ('rare_label_encoder',\n",
       "                 RareLabelEncoder(n_categories=1,\n",
       "                                  variables=['sex', 'cabin', 'embarked',\n",
       "                                             'title'])),\n",
       "                ('categorical_encoder',\n",
       "                 OneHotEncoder(drop_last=True,\n",
       "                               variables=['sex', 'cabin', 'embarked',\n",
       "                                          'title'])),\n",
       "                ('scaler', StandardScaler()),\n",
       "                ('Logit', LogisticRegression(C=0.0005, random_state=0))])"
      ]
     },
     "execution_count": 50,
     "metadata": {},
     "output_type": "execute_result"
    }
   ],
   "source": [
    "# train the pipeline\n",
    "titanic_pipe.fit(X_train, y_train)"
   ]
  },
  {
   "cell_type": "markdown",
   "metadata": {},
   "source": [
    "## Make predictions and evaluate model performance\n",
    "\n",
    "Determine:\n",
    "- roc-auc\n",
    "- accuracy\n",
    "\n",
    "**Important, remember that to determine the accuracy, you need the outcome 0, 1, referring to survived or not. But to determine the roc-auc you need the probability of survival.**"
   ]
  },
  {
   "cell_type": "code",
   "execution_count": 51,
   "metadata": {},
   "outputs": [
    {
     "name": "stdout",
     "output_type": "stream",
     "text": [
      "train roc-auc: 0.850634559062805\n",
      "train accuracy: 0.6671348314606742\n",
      "\n",
      "test roc-auc: 0.8787878787878788\n",
      "test accuracy: 0.6927374301675978\n",
      "\n"
     ]
    }
   ],
   "source": [
    "# make predictions for train set\n",
    "class_ = titanic_pipe.predict(X_train)\n",
    "pred = titanic_pipe.predict_proba(X_train)[:,-1]\n",
    "\n",
    "# determine mse and rmse\n",
    "print('train roc-auc: {}'.format(roc_auc_score(y_train, pred)))\n",
    "print('train accuracy: {}'.format(accuracy_score(y_train, class_)))\n",
    "print()\n",
    "\n",
    "# make predictions for test set\n",
    "class_ = titanic_pipe.predict(X_test)\n",
    "pred = titanic_pipe.predict_proba(X_test)[:,-1]\n",
    "\n",
    "# determine mse and rmse\n",
    "print('test roc-auc: {}'.format(roc_auc_score(y_test, pred)))\n",
    "print('test accuracy: {}'.format(accuracy_score(y_test, class_)))\n",
    "print()"
   ]
  },
  {
   "cell_type": "markdown",
   "metadata": {},
   "source": [
    "# New predictions with test_titanic"
   ]
  },
  {
   "cell_type": "code",
   "execution_count": 52,
   "metadata": {},
   "outputs": [],
   "source": [
    "# load the data - it is available open source and online\n",
    "\n",
    "data = pd.read_csv('clf_model/datasets/test_titanic.csv')"
   ]
  },
  {
   "cell_type": "code",
   "execution_count": 53,
   "metadata": {},
   "outputs": [],
   "source": [
    "# replace interrogation marks by NaN values\n",
    "\n",
    "data = data.replace('?', np.nan)"
   ]
  },
  {
   "cell_type": "code",
   "execution_count": 54,
   "metadata": {},
   "outputs": [],
   "source": [
    "# Lowercase the columns names\n",
    "data.columns = [var.lower() for var in data.columns]"
   ]
  },
  {
   "cell_type": "code",
   "execution_count": 55,
   "metadata": {},
   "outputs": [],
   "source": [
    "# retain only the first cabin if more than\n",
    "# 1 are available per passenger\n",
    "\n",
    "data['cabin'] = data['cabin'].apply(get_first_cabin)"
   ]
  },
  {
   "cell_type": "code",
   "execution_count": 56,
   "metadata": {},
   "outputs": [],
   "source": [
    "# extracts the title (Mr, Ms, etc) from the name variable\n",
    "data['title'] = data['name'].apply(get_title)"
   ]
  },
  {
   "cell_type": "code",
   "execution_count": 57,
   "metadata": {},
   "outputs": [],
   "source": [
    "# cast numerical variables as floats\n",
    "\n",
    "data['fare'] = data['fare'].astype('float')\n",
    "data['age'] = data['age'].astype('float')"
   ]
  },
  {
   "cell_type": "code",
   "execution_count": 59,
   "metadata": {},
   "outputs": [],
   "source": [
    "FEATURES = ['pclass','sex','age','sibsp','parch','fare','cabin','embarked','title']"
   ]
  },
  {
   "cell_type": "code",
   "execution_count": 60,
   "metadata": {},
   "outputs": [],
   "source": [
    "# drop unnecessary variables\n",
    "\n",
    "data = data[FEATURES]"
   ]
  },
  {
   "cell_type": "code",
   "execution_count": 65,
   "metadata": {},
   "outputs": [
    {
     "data": {
      "text/html": [
       "<div>\n",
       "<style scoped>\n",
       "    .dataframe tbody tr th:only-of-type {\n",
       "        vertical-align: middle;\n",
       "    }\n",
       "\n",
       "    .dataframe tbody tr th {\n",
       "        vertical-align: top;\n",
       "    }\n",
       "\n",
       "    .dataframe thead th {\n",
       "        text-align: right;\n",
       "    }\n",
       "</style>\n",
       "<table border=\"1\" class=\"dataframe\">\n",
       "  <thead>\n",
       "    <tr style=\"text-align: right;\">\n",
       "      <th></th>\n",
       "      <th>pclass</th>\n",
       "      <th>sex</th>\n",
       "      <th>age</th>\n",
       "      <th>sibsp</th>\n",
       "      <th>parch</th>\n",
       "      <th>fare</th>\n",
       "      <th>cabin</th>\n",
       "      <th>embarked</th>\n",
       "      <th>title</th>\n",
       "    </tr>\n",
       "  </thead>\n",
       "  <tbody>\n",
       "    <tr>\n",
       "      <th>413</th>\n",
       "      <td>3</td>\n",
       "      <td>male</td>\n",
       "      <td>NaN</td>\n",
       "      <td>0</td>\n",
       "      <td>0</td>\n",
       "      <td>8.0500</td>\n",
       "      <td>NaN</td>\n",
       "      <td>S</td>\n",
       "      <td>Mr</td>\n",
       "    </tr>\n",
       "    <tr>\n",
       "      <th>414</th>\n",
       "      <td>1</td>\n",
       "      <td>female</td>\n",
       "      <td>39.0</td>\n",
       "      <td>0</td>\n",
       "      <td>0</td>\n",
       "      <td>108.9000</td>\n",
       "      <td>C105</td>\n",
       "      <td>C</td>\n",
       "      <td>Other</td>\n",
       "    </tr>\n",
       "    <tr>\n",
       "      <th>415</th>\n",
       "      <td>3</td>\n",
       "      <td>male</td>\n",
       "      <td>38.5</td>\n",
       "      <td>0</td>\n",
       "      <td>0</td>\n",
       "      <td>7.2500</td>\n",
       "      <td>NaN</td>\n",
       "      <td>S</td>\n",
       "      <td>Mr</td>\n",
       "    </tr>\n",
       "    <tr>\n",
       "      <th>416</th>\n",
       "      <td>3</td>\n",
       "      <td>male</td>\n",
       "      <td>NaN</td>\n",
       "      <td>0</td>\n",
       "      <td>0</td>\n",
       "      <td>8.0500</td>\n",
       "      <td>NaN</td>\n",
       "      <td>S</td>\n",
       "      <td>Mr</td>\n",
       "    </tr>\n",
       "    <tr>\n",
       "      <th>417</th>\n",
       "      <td>3</td>\n",
       "      <td>male</td>\n",
       "      <td>NaN</td>\n",
       "      <td>1</td>\n",
       "      <td>1</td>\n",
       "      <td>22.3583</td>\n",
       "      <td>NaN</td>\n",
       "      <td>C</td>\n",
       "      <td>Master</td>\n",
       "    </tr>\n",
       "  </tbody>\n",
       "</table>\n",
       "</div>"
      ],
      "text/plain": [
       "     pclass     sex   age  sibsp  parch      fare cabin embarked   title\n",
       "413       3    male   NaN      0      0    8.0500   NaN        S      Mr\n",
       "414       1  female  39.0      0      0  108.9000  C105        C   Other\n",
       "415       3    male  38.5      0      0    7.2500   NaN        S      Mr\n",
       "416       3    male   NaN      0      0    8.0500   NaN        S      Mr\n",
       "417       3    male   NaN      1      1   22.3583   NaN        C  Master"
      ]
     },
     "execution_count": 65,
     "metadata": {},
     "output_type": "execute_result"
    }
   ],
   "source": [
    "data.tail()"
   ]
  },
  {
   "cell_type": "code",
   "execution_count": 68,
   "metadata": {},
   "outputs": [
    {
     "data": {
      "text/plain": [
       "'C105'"
      ]
     },
     "execution_count": 68,
     "metadata": {},
     "output_type": "execute_result"
    }
   ],
   "source": [
    "data['cabin'].iat[414]"
   ]
  },
  {
   "cell_type": "code",
   "execution_count": 66,
   "metadata": {},
   "outputs": [],
   "source": [
    "# make predictions for test set\n",
    "class_ = titanic_pipe.predict(data)\n",
    "pred = titanic_pipe.predict_proba(data)[:,-1]"
   ]
  },
  {
   "cell_type": "code",
   "execution_count": 69,
   "metadata": {},
   "outputs": [
    {
     "data": {
      "text/plain": [
       "array([0, 0, 0, 0, 0, 0, 0, 0, 0, 0, 0, 0, 1, 0, 0, 0, 0, 0, 0, 0, 0, 0,\n",
       "       0, 0, 1, 0, 1, 0, 0, 0, 0, 0, 0, 0, 0, 0, 0, 0, 0, 0, 0, 0, 0, 0,\n",
       "       0, 0, 0, 0, 1, 0, 0, 0, 0, 1, 0, 0, 0, 0, 0, 1, 0, 0, 0, 0, 0, 0,\n",
       "       0, 0, 0, 1, 0, 0, 0, 0, 1, 0, 0, 0, 0, 0, 0, 0, 0, 0, 0, 0, 0, 0,\n",
       "       0, 0, 0, 0, 1, 0, 0, 0, 0, 0, 0, 0, 1, 0, 0, 0, 0, 0, 0, 0, 0, 0,\n",
       "       0, 0, 0, 0, 1, 0, 0, 0, 0, 0, 0, 0, 1, 0, 0, 0, 0, 0, 0, 0, 0, 0,\n",
       "       0, 0, 0, 0, 0, 0, 0, 0, 0, 0, 0, 0, 0, 0, 0, 0, 0, 0, 1, 0, 0, 0,\n",
       "       0, 0, 1, 0, 0, 0, 0, 0, 0, 0, 0, 0, 0, 0, 0, 0, 0, 0, 0, 0, 0, 0,\n",
       "       0, 0, 0, 1, 0, 0, 0, 0, 1, 0, 0, 0, 0, 0, 0, 0, 0, 0, 0, 0, 0, 0,\n",
       "       0, 0, 0, 0, 0, 0, 0, 0, 0, 0, 0, 0, 0, 0, 0, 0, 0, 0, 0, 0, 1, 0,\n",
       "       0, 0, 0, 0, 0, 0, 0, 0, 0, 0, 0, 0, 0, 0, 0, 0, 0, 0, 0, 1, 0, 0,\n",
       "       0, 0, 0, 0, 0, 0, 0, 0, 0, 0, 0, 0, 0, 0, 0, 0, 0, 0, 0, 0, 0, 0,\n",
       "       0, 0, 0, 0, 0, 0, 0, 0, 1, 0, 0, 0, 0, 0, 0, 0, 0, 0, 0, 0, 0, 0,\n",
       "       0, 0, 0, 0, 0, 0, 0, 0, 0, 0, 0, 0, 0, 0, 0, 0, 0, 0, 0, 0, 0, 0,\n",
       "       0, 0, 0, 0, 0, 0, 1, 0, 0, 0, 0, 0, 0, 0, 0, 0, 0, 0, 0, 0, 0, 0,\n",
       "       0, 0, 0, 0, 0, 0, 0, 0, 0, 0, 0, 0, 0, 1, 0, 0, 0, 0, 0, 0, 1, 0,\n",
       "       0, 0, 0, 0, 0, 0, 0, 0, 0, 0, 0, 0, 1, 0, 0, 0, 0, 0, 0, 1, 0, 0,\n",
       "       0, 1, 0, 0, 0, 0, 0, 0, 0, 0, 0, 0, 0, 0, 0, 0, 0, 0, 0, 0, 0, 0,\n",
       "       0, 1, 0, 0, 1, 0, 0, 0, 0, 0, 0, 0, 0, 0, 0, 1, 0, 0, 0, 0, 0, 0])"
      ]
     },
     "execution_count": 69,
     "metadata": {},
     "output_type": "execute_result"
    }
   ],
   "source": [
    "class_"
   ]
  },
  {
   "cell_type": "code",
   "execution_count": 70,
   "metadata": {},
   "outputs": [
    {
     "data": {
      "text/plain": [
       "418"
      ]
     },
     "execution_count": 70,
     "metadata": {},
     "output_type": "execute_result"
    }
   ],
   "source": [
    "len(class_)"
   ]
  },
  {
   "cell_type": "code",
   "execution_count": 71,
   "metadata": {},
   "outputs": [
    {
     "data": {
      "text/plain": [
       "dtype('int64')"
      ]
     },
     "execution_count": 71,
     "metadata": {},
     "output_type": "execute_result"
    }
   ],
   "source": [
    "class_[0].dtype"
   ]
  },
  {
   "cell_type": "code",
   "execution_count": 73,
   "metadata": {},
   "outputs": [
    {
     "data": {
      "text/plain": [
       "[0.33527866268929146,\n",
       " 0.42223102666716966,\n",
       " 0.34029413922841695,\n",
       " 0.3247566466988435,\n",
       " 0.4322112486272021,\n",
       " 0.32804623306523223,\n",
       " 0.43758135637255186,\n",
       " 0.3393282251842542,\n",
       " 0.45445382715281896,\n",
       " 0.3242129736288953,\n",
       " 0.3173721427965734,\n",
       " 0.345543622376473,\n",
       " 0.5115735279751898,\n",
       " 0.3275580492375527,\n",
       " 0.4791340228278659,\n",
       " 0.46646674096169227,\n",
       " 0.34750203159163684,\n",
       " 0.34591106189724913,\n",
       " 0.4223616271739918,\n",
       " 0.44692880154987386,\n",
       " 0.36599044898556465,\n",
       " 0.3666281107499571,\n",
       " 0.45105127809719947,\n",
       " 0.3795789598291104,\n",
       " 0.5599286281523762,\n",
       " 0.31786154259905935,\n",
       " 0.5301619561433015,\n",
       " 0.34552911621397714,\n",
       " 0.369001761976818,\n",
       " 0.3346821623414416,\n",
       " 0.3307895047096982,\n",
       " 0.3359770868725569,\n",
       " 0.432704691028661,\n",
       " 0.42657844737801914,\n",
       " 0.40339636406910245,\n",
       " 0.3465486341597621,\n",
       " 0.41646259856843204,\n",
       " 0.42634731686793764,\n",
       " 0.3253577207524123,\n",
       " 0.32354246485894883,\n",
       " 0.3443083528608108,\n",
       " 0.3643633232742353,\n",
       " 0.3212069827133084,\n",
       " 0.44286100313542187,\n",
       " 0.4784415635769976,\n",
       " 0.32515619048953504,\n",
       " 0.388778042978025,\n",
       " 0.3297225692202102,\n",
       " 0.5022046151517011,\n",
       " 0.433448460937942,\n",
       " 0.38407516899213323,\n",
       " 0.3573308675357543,\n",
       " 0.43937660781551685,\n",
       " 0.5177170570418531,\n",
       " 0.34976317481611696,\n",
       " 0.37455797082590064,\n",
       " 0.32268723101706664,\n",
       " 0.346059936113611,\n",
       " 0.3164307372696805,\n",
       " 0.5528793308281504,\n",
       " 0.3271316394531287,\n",
       " 0.3357014068619161,\n",
       " 0.3268651990101631,\n",
       " 0.43981266012085773,\n",
       " 0.49231381627320076,\n",
       " 0.43660595850337053,\n",
       " 0.4409445086134236,\n",
       " 0.34745386182676435,\n",
       " 0.4012261301857497,\n",
       " 0.5236773406358669,\n",
       " 0.43926163205835517,\n",
       " 0.3261412724219119,\n",
       " 0.4240412273860967,\n",
       " 0.39292550318599745,\n",
       " 0.5325252437779516,\n",
       " 0.4266887800884977,\n",
       " 0.31739162055746845,\n",
       " 0.4786822865086311,\n",
       " 0.3361386124296484,\n",
       " 0.43926163205835517,\n",
       " 0.3878389271181785,\n",
       " 0.39499377711945355,\n",
       " 0.3447803138193387,\n",
       " 0.3173721427965734,\n",
       " 0.34176922524126063,\n",
       " 0.3357785231811216,\n",
       " 0.4384485345574533,\n",
       " 0.4270860948535907,\n",
       " 0.4027750639772561,\n",
       " 0.38128315996432466,\n",
       " 0.4300968404541496,\n",
       " 0.31735688440084964,\n",
       " 0.5108171907702989,\n",
       " 0.31739162055746845,\n",
       " 0.37144398981950144,\n",
       " 0.3251396614810233,\n",
       " 0.48279634405498845,\n",
       " 0.3241689227366363,\n",
       " 0.42650738233380536,\n",
       " 0.32319915858478826,\n",
       " 0.5109176914286024,\n",
       " 0.336545851561836,\n",
       " 0.3297225692202102,\n",
       " 0.3248900450261097,\n",
       " 0.4553046308342849,\n",
       " 0.3262840193689381,\n",
       " 0.33867289285933083,\n",
       " 0.3297225692202102,\n",
       " 0.3174753114689227,\n",
       " 0.3603899647193419,\n",
       " 0.35372156396488197,\n",
       " 0.4302208712340109,\n",
       " 0.4968267131174977,\n",
       " 0.44072012534044125,\n",
       " 0.5072807422894716,\n",
       " 0.34556267267282,\n",
       " 0.33677355005955156,\n",
       " 0.45630961962582633,\n",
       " 0.4064266959619832,\n",
       " 0.4427556544665857,\n",
       " 0.44270013108304707,\n",
       " 0.3277074634591821,\n",
       " 0.5135039946618662,\n",
       " 0.3243293453229591,\n",
       " 0.3297225692202102,\n",
       " 0.4308535693074545,\n",
       " 0.3258811141107534,\n",
       " 0.4279562963166726,\n",
       " 0.333130927100757,\n",
       " 0.32541924915481146,\n",
       " 0.3234454445633102,\n",
       " 0.4337712710903991,\n",
       " 0.4337924687410458,\n",
       " 0.33473687236215544,\n",
       " 0.320722118838398,\n",
       " 0.32539418945124066,\n",
       " 0.3445115692872455,\n",
       " 0.3371441488446379,\n",
       " 0.42570946356761663,\n",
       " 0.33713184803978913,\n",
       " 0.42833892339644764,\n",
       " 0.46944340616395397,\n",
       " 0.4440471726843427,\n",
       " 0.33833588393441055,\n",
       " 0.34663522729579216,\n",
       " 0.3189824175554072,\n",
       " 0.36778812689753915,\n",
       " 0.3259136735678129,\n",
       " 0.34289763225608216,\n",
       " 0.37428536952624575,\n",
       " 0.5252397309794629,\n",
       " 0.3369634835954896,\n",
       " 0.31727354060653684,\n",
       " 0.43291639394993114,\n",
       " 0.36314760906036536,\n",
       " 0.3253552580222184,\n",
       " 0.5134999606009875,\n",
       " 0.4256815542843947,\n",
       " 0.3682037874299464,\n",
       " 0.4359102201093128,\n",
       " 0.43021431122250037,\n",
       " 0.38757169761265764,\n",
       " 0.4384924971518707,\n",
       " 0.31725900254194805,\n",
       " 0.3695222003202192,\n",
       " 0.4324995016844815,\n",
       " 0.41260588016179617,\n",
       " 0.3304797015574317,\n",
       " 0.47259873867190283,\n",
       " 0.42611479387633727,\n",
       " 0.31732846542222565,\n",
       " 0.3443844758848436,\n",
       " 0.3244112083652757,\n",
       " 0.3368766569969808,\n",
       " 0.3329866678896887,\n",
       " 0.44994080348115995,\n",
       " 0.44349918381755776,\n",
       " 0.3965895103974793,\n",
       " 0.4753853827354971,\n",
       " 0.5068599867186129,\n",
       " 0.3361386124296484,\n",
       " 0.3984688950708152,\n",
       " 0.48610978567216256,\n",
       " 0.3297225692202102,\n",
       " 0.558907425577323,\n",
       " 0.3340202501462998,\n",
       " 0.443314761302671,\n",
       " 0.32314379912999974,\n",
       " 0.41207601100223745,\n",
       " 0.3336312734214969,\n",
       " 0.3347886801960224,\n",
       " 0.34282538305643157,\n",
       " 0.3653887382532668,\n",
       " 0.3408955978207462,\n",
       " 0.38541480199657435,\n",
       " 0.32317418794052355,\n",
       " 0.4576865903368089,\n",
       " 0.4270468640571205,\n",
       " 0.3375732506975049,\n",
       " 0.42195391411401995,\n",
       " 0.4313246721086008,\n",
       " 0.3726554428066364,\n",
       " 0.46186914989565636,\n",
       " 0.44539297526011007,\n",
       " 0.3370699829598422,\n",
       " 0.3631172424628624,\n",
       " 0.4362139732138678,\n",
       " 0.33732157074774755,\n",
       " 0.497094005730407,\n",
       " 0.32515245479318167,\n",
       " 0.32529497787292455,\n",
       " 0.3172653170128941,\n",
       " 0.34736496828566166,\n",
       " 0.43416387779985594,\n",
       " 0.4173089668962179,\n",
       " 0.3917099681081348,\n",
       " 0.43023516328291694,\n",
       " 0.36131171405330537,\n",
       " 0.5340339222957852,\n",
       " 0.31739162055746845,\n",
       " 0.4571828370062031,\n",
       " 0.3261610312187243,\n",
       " 0.4680240600531742,\n",
       " 0.326128459005766,\n",
       " 0.47359640850000834,\n",
       " 0.44955799161459997,\n",
       " 0.325633866158604,\n",
       " 0.4302166979776654,\n",
       " 0.32225222235488865,\n",
       " 0.33463309009974807,\n",
       " 0.3470071587469907,\n",
       " 0.45468719459136536,\n",
       " 0.32395867751169755,\n",
       " 0.3297392173736616,\n",
       " 0.40285716881899597,\n",
       " 0.3263833866750088,\n",
       " 0.38783669407766264,\n",
       " 0.34616580282457293,\n",
       " 0.4407449515891485,\n",
       " 0.5169370845507671,\n",
       " 0.4730751295511806,\n",
       " 0.4458605331377347,\n",
       " 0.40349575713711916,\n",
       " 0.3173710944008647,\n",
       " 0.3570593282726997,\n",
       " 0.36977581240955576,\n",
       " 0.44623642448057393,\n",
       " 0.3357571120360107,\n",
       " 0.4427556544665857,\n",
       " 0.4424627858222541,\n",
       " 0.4499800456439001,\n",
       " 0.32639246220338136,\n",
       " 0.41535300635576516,\n",
       " 0.3255824560218779,\n",
       " 0.32350727797713075,\n",
       " 0.31732846542222565,\n",
       " 0.3297225692202102,\n",
       " 0.3244315666660983,\n",
       " 0.4403617459058318,\n",
       " 0.32612579384784446,\n",
       " 0.3215344457375494,\n",
       " 0.3261359420092395,\n",
       " 0.44930472862206977,\n",
       " 0.4324716343486732,\n",
       " 0.3562486747225117,\n",
       " 0.3173721427965734,\n",
       " 0.3394183213527826,\n",
       " 0.31732846542222565,\n",
       " 0.41646259856843204,\n",
       " 0.32723004201142586,\n",
       " 0.4037139010708875,\n",
       " 0.3297225692202102,\n",
       " 0.5275314263423706,\n",
       " 0.42908612738086627,\n",
       " 0.33687610996959827,\n",
       " 0.4397017833211907,\n",
       " 0.3363157736533016,\n",
       " 0.3332861686088832,\n",
       " 0.33514234400111204,\n",
       " 0.33782502270021303,\n",
       " 0.4257967722209077,\n",
       " 0.3681009937416717,\n",
       " 0.4302166979776654,\n",
       " 0.4526486432190641,\n",
       " 0.4333445308722725,\n",
       " 0.322358992417864,\n",
       " 0.3172905755694144,\n",
       " 0.39991620114427195,\n",
       " 0.3581708789171879,\n",
       " 0.31739162055746845,\n",
       " 0.34461403848903,\n",
       " 0.4374839022601277,\n",
       " 0.3368766569969808,\n",
       " 0.41072431272560306,\n",
       " 0.3226456199187773,\n",
       " 0.3249054932274587,\n",
       " 0.47408345810759467,\n",
       " 0.3346821623414416,\n",
       " 0.35221759916869627,\n",
       " 0.3241598792821686,\n",
       " 0.3234103597657247,\n",
       " 0.3713431211009334,\n",
       " 0.33604744768604544,\n",
       " 0.32549764716912,\n",
       " 0.4302166979776654,\n",
       " 0.49430654111744804,\n",
       " 0.39974169551105754,\n",
       " 0.3696053840226623,\n",
       " 0.3954164654263651,\n",
       " 0.42379206249733375,\n",
       " 0.32698226704038524,\n",
       " 0.345656409328152,\n",
       " 0.31733162301926077,\n",
       " 0.4356603637473722,\n",
       " 0.5215007274549618,\n",
       " 0.4412010535701759,\n",
       " 0.42153368294824617,\n",
       " 0.3385808899340851,\n",
       " 0.32465331114144796,\n",
       " 0.33647955107023686,\n",
       " 0.3248900450261097,\n",
       " 0.3664145003245036,\n",
       " 0.35844613944161957,\n",
       " 0.34893330496396235,\n",
       " 0.47644872504739155,\n",
       " 0.325538386803287,\n",
       " 0.4671906984324355,\n",
       " 0.3731681357800392,\n",
       " 0.33604333850006407,\n",
       " 0.33840314390789666,\n",
       " 0.4459984983266013,\n",
       " 0.39038424002626204,\n",
       " 0.33687610996959827,\n",
       " 0.45551180296455995,\n",
       " 0.3246586289965997,\n",
       " 0.37995672895594107,\n",
       " 0.3356363998192307,\n",
       " 0.3456537058964272,\n",
       " 0.3398113271295367,\n",
       " 0.37318461182683604,\n",
       " 0.33883302905565865,\n",
       " 0.323385380600657,\n",
       " 0.3423117339601242,\n",
       " 0.5903366280831538,\n",
       " 0.35367366495368796,\n",
       " 0.4275799836729783,\n",
       " 0.3371441488446379,\n",
       " 0.44887799080481106,\n",
       " 0.337712669471939,\n",
       " 0.43818333914379404,\n",
       " 0.5069307087894507,\n",
       " 0.3370699829598422,\n",
       " 0.34710981338311814,\n",
       " 0.3403735786686983,\n",
       " 0.4362523729996469,\n",
       " 0.3660369011754128,\n",
       " 0.48130991381212723,\n",
       " 0.3173700460070091,\n",
       " 0.3297225692202102,\n",
       " 0.4281263681102752,\n",
       " 0.35946302412418424,\n",
       " 0.4701951523782532,\n",
       " 0.44373427135097787,\n",
       " 0.3247566466988435,\n",
       " 0.5067319818892612,\n",
       " 0.4496664981693255,\n",
       " 0.33577905632517613,\n",
       " 0.4305011290570722,\n",
       " 0.4828778342644212,\n",
       " 0.35665680467670513,\n",
       " 0.3361664173198549,\n",
       " 0.5132177479504337,\n",
       " 0.3839563400174532,\n",
       " 0.33263095658749775,\n",
       " 0.482564079261108,\n",
       " 0.5044366110691123,\n",
       " 0.4216119202116517,\n",
       " 0.33820737108833454,\n",
       " 0.3766289321598075,\n",
       " 0.3652329005437935,\n",
       " 0.3297225692202102,\n",
       " 0.3374210183266386,\n",
       " 0.4228625269300142,\n",
       " 0.43123938415906743,\n",
       " 0.3294494167110512,\n",
       " 0.44892517119975933,\n",
       " 0.32538405322569497,\n",
       " 0.32939036643857195,\n",
       " 0.33866364754158035,\n",
       " 0.36348029814350924,\n",
       " 0.40395635875798414,\n",
       " 0.47950713106108533,\n",
       " 0.3701219872925791,\n",
       " 0.3315585864988759,\n",
       " 0.32206614332528005,\n",
       " 0.4963646930242879,\n",
       " 0.3378424729424583,\n",
       " 0.5287065132686292,\n",
       " 0.3258784499966641,\n",
       " 0.3361448379747472,\n",
       " 0.5049261618810047,\n",
       " 0.33313868912240135,\n",
       " 0.48372017316458904,\n",
       " 0.35577747545321237,\n",
       " 0.3868704790162793,\n",
       " 0.38087443234209956,\n",
       " 0.33553418345006936,\n",
       " 0.42198149022316656,\n",
       " 0.43021252473123583,\n",
       " 0.4321468530234058,\n",
       " 0.4302166979776654,\n",
       " 0.509519101609149,\n",
       " 0.4242948178393872,\n",
       " 0.31739162055746845,\n",
       " 0.4882557288586217,\n",
       " 0.321744545586856,\n",
       " 0.31739162055746845,\n",
       " 0.3753508539451285]"
      ]
     },
     "execution_count": 73,
     "metadata": {},
     "output_type": "execute_result"
    }
   ],
   "source": [
    "[p for p in pred]"
   ]
  },
  {
   "cell_type": "code",
   "execution_count": 31,
   "metadata": {},
   "outputs": [
    {
     "data": {
      "text/plain": [
       "179"
      ]
     },
     "execution_count": 31,
     "metadata": {},
     "output_type": "execute_result"
    }
   ],
   "source": [
    "len(pred)"
   ]
  },
  {
   "cell_type": "code",
   "execution_count": 32,
   "metadata": {},
   "outputs": [
    {
     "data": {
      "text/plain": [
       "dtype('float64')"
      ]
     },
     "execution_count": 32,
     "metadata": {},
     "output_type": "execute_result"
    }
   ],
   "source": [
    "pred[0].dtype"
   ]
  },
  {
   "cell_type": "code",
   "execution_count": null,
   "metadata": {},
   "outputs": [],
   "source": []
  }
 ],
 "metadata": {
  "interpreter": {
   "hash": "aee8b7b246df8f9039afb4144a1f6fd8d2ca17a180786b69acc140d282b71a49"
  },
  "kernelspec": {
   "display_name": "Python 3.9.6 64-bit",
   "name": "python3"
  },
  "language_info": {
   "codemirror_mode": {
    "name": "ipython",
    "version": 3
   },
   "file_extension": ".py",
   "mimetype": "text/x-python",
   "name": "python",
   "nbconvert_exporter": "python",
   "pygments_lexer": "ipython3",
   "version": "3.9.6"
  },
  "toc": {
   "base_numbering": 1,
   "nav_menu": {},
   "number_sections": true,
   "sideBar": true,
   "skip_h1_title": false,
   "title_cell": "Table of Contents",
   "title_sidebar": "Contents",
   "toc_cell": false,
   "toc_position": {},
   "toc_section_display": true,
   "toc_window_display": true
  }
 },
 "nbformat": 4,
 "nbformat_minor": 2
}
